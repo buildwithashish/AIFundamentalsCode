{
 "cells": [
  {
   "cell_type": "code",
   "execution_count": 7,
   "id": "6f86a69e-6f72-49b2-a549-d651a96d9416",
   "metadata": {},
   "outputs": [
    {
     "name": "stdout",
     "output_type": "stream",
     "text": [
      "Scalar: 5\n",
      "Vector: [2 4 6]\n",
      "Matrix:\n",
      " [[1 2]\n",
      " [3 4]]\n",
      "Tensor shape: (2, 3, 4)\n",
      "Tensor: \n",
      " [[[0.34097589 0.57275201 0.30107296 0.36832019]\n",
      "  [0.99286424 0.80101732 0.91872893 0.31033868]\n",
      "  [0.93714958 0.02449156 0.89191822 0.25784927]]\n",
      "\n",
      " [[0.50563352 0.34252575 0.6398907  0.04995871]\n",
      "  [0.81573086 0.19501888 0.63499339 0.24150427]\n",
      "  [0.96082836 0.1032149  0.46315035 0.68179747]]]\n"
     ]
    }
   ],
   "source": [
    "import numpy as np\n",
    "\n",
    "# Scalar\n",
    "scalar = 5\n",
    "print(\"Scalar:\", scalar)\n",
    "\n",
    "# Vector (1D array)\n",
    "vector = np.array([2, 4, 6])\n",
    "print(\"Vector:\", vector)\n",
    "\n",
    "# Matrix (2D array)\n",
    "matrix = np.array([[1, 2], [3, 4]])\n",
    "print(\"Matrix:\\n\", matrix)\n",
    "\n",
    "# Tensor (3D array)\n",
    "tensor = np.random.rand(2, 3, 4)  # 2 matrices of 3x4\n",
    "print(\"Tensor shape:\", tensor.shape)\n",
    "print(\"Tensor: \\n\", tensor)"
   ]
  },
  {
   "cell_type": "code",
   "execution_count": 6,
   "id": "abd287e2-5eb2-4183-adca-3eab7775f064",
   "metadata": {},
   "outputs": [
    {
     "name": "stdout",
     "output_type": "stream",
     "text": [
      "Identity Matrix:\n",
      " [[1. 0. 0.]\n",
      " [0. 1. 0.]\n",
      " [0. 0. 1.]]\n",
      "Inverse Matrix:\n",
      " [[ 0.6 -0.7]\n",
      " [-0.2  0.4]]\n",
      "Product (M * inv_M):\n",
      " [[ 1.00000000e+00 -1.11022302e-16]\n",
      " [ 1.11022302e-16  1.00000000e+00]]\n"
     ]
    }
   ],
   "source": [
    "I = np.eye(3)\n",
    "print(\"Identity Matrix:\\n\", I)\n",
    "\n",
    "# Inverse\n",
    "M = np.array([[4, 7], [2, 6]])\n",
    "inv_M = np.linalg.inv(M)\n",
    "print(\"Inverse Matrix:\\n\", inv_M)\n",
    "\n",
    "# M * M⁻¹ should be the identity\n",
    "print(\"Product (M * inv_M):\\n\", np.dot(M, inv_M))"
   ]
  }
 ],
 "metadata": {
  "kernelspec": {
   "display_name": "Python 3 (ipykernel)",
   "language": "python",
   "name": "python3"
  },
  "language_info": {
   "codemirror_mode": {
    "name": "ipython",
    "version": 3
   },
   "file_extension": ".py",
   "mimetype": "text/x-python",
   "name": "python",
   "nbconvert_exporter": "python",
   "pygments_lexer": "ipython3",
   "version": "3.13.3"
  }
 },
 "nbformat": 4,
 "nbformat_minor": 5
}
