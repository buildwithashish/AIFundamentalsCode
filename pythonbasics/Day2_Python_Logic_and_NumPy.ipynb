{
 "cells": [
  {
   "cell_type": "code",
   "execution_count": 9,
   "id": "8f0da29b-74ad-47e3-aaa8-7b8f484d57c7",
   "metadata": {},
   "outputs": [
    {
     "name": "stdout",
     "output_type": "stream",
     "text": [
      "Pass\n"
     ]
    }
   ],
   "source": [
    "score = 65\n",
    "\n",
    "if (score >=80):\n",
    "    print(\"Distinction\");\n",
    "elif (score >= 60):\n",
    "    print(\"Pass\");\n",
    "else :\n",
    "    print(\"Fail\");"
   ]
  },
  {
   "cell_type": "code",
   "execution_count": 2,
   "id": "5abbd016-c767-495a-a21d-e7c761b82aa1",
   "metadata": {},
   "outputs": [
    {
     "name": "stdout",
     "output_type": "stream",
     "text": [
      "Collecting numpy\n",
      "  Downloading numpy-2.2.5-cp313-cp313-macosx_14_0_arm64.whl.metadata (62 kB)\n",
      "Downloading numpy-2.2.5-cp313-cp313-macosx_14_0_arm64.whl (5.1 MB)\n",
      "\u001b[2K   \u001b[90m━━━━━━━━━━━━━━━━━━━━━━━━━━━━━━━━━━━━━━━━\u001b[0m \u001b[32m5.1/5.1 MB\u001b[0m \u001b[31m32.0 MB/s\u001b[0m eta \u001b[36m0:00:00\u001b[0m\n",
      "\u001b[?25hInstalling collected packages: numpy\n",
      "Successfully installed numpy-2.2.5\n"
     ]
    }
   ],
   "source": [
    "import sys\n",
    "!{sys.executable} -m pip install numpy"
   ]
  },
  {
   "cell_type": "code",
   "execution_count": 14,
   "id": "a15d9295-b32f-4b27-9374-224d990a203b",
   "metadata": {},
   "outputs": [
    {
     "name": "stdout",
     "output_type": "stream",
     "text": [
      "Array: [1 2 3 4 5 6]\n",
      "Squared: [ 1  4  9 16 25 36]\n",
      "Mean: 3.5\n",
      "Max: 6\n",
      "Median: 3.5\n"
     ]
    }
   ],
   "source": [
    "import numpy as np\n",
    "arr = np.array([1,2,3,4,5,6])\n",
    "print(\"Array:\", arr)\n",
    "\n",
    "print(\"Squared:\", arr**2)\n",
    "print(\"Mean:\", np.mean(arr))\n",
    "print(\"Max:\", np.max(arr))\n",
    "print(\"Median:\", np.median(arr))"
   ]
  },
  {
   "cell_type": "code",
   "execution_count": 18,
   "id": "393e5a7f-f3e8-4053-a2c9-459bb009b186",
   "metadata": {},
   "outputs": [
    {
     "name": "stdout",
     "output_type": "stream",
     "text": [
      "Mean is: 74.0\n",
      "70 -> Below average\n",
      "85 -> Above average\n",
      "90 -> Above average\n",
      "65 -> Below average\n",
      "60 -> Below average\n"
     ]
    }
   ],
   "source": [
    "def analyze(scores):\n",
    "    mean = np.mean(scores)\n",
    "    print(\"Mean is:\", mean)\n",
    "    for score in scores:\n",
    "        status = \"Above average\" if(score>mean) else \"Below average\"\n",
    "        print(f\"{score} -> {status}\")\n",
    "\n",
    "analyze([70,85,90,65,60])"
   ]
  },
  {
   "cell_type": "code",
   "execution_count": 26,
   "id": "93aa1153-d77f-4655-a573-da634ec28df8",
   "metadata": {},
   "outputs": [
    {
     "name": "stdout",
     "output_type": "stream",
     "text": [
      "2 is Even\n",
      "4 is Even\n",
      "5 is Odd\n",
      "7 is Odd\n",
      "6 is Even\n",
      "8 is Even\n",
      "9 is Odd\n",
      "10 is Even\n",
      "15 is Odd\n",
      "0 is Even\n"
     ]
    }
   ],
   "source": [
    "arr = np.array([2,4,5,7,6,8,9,10,15,0])\n",
    "for num in arr:\n",
    "    status = \"Even\" if(num%2==0) else \"Odd\"\n",
    "    print(f\"{num} is {status}\")"
   ]
  },
  {
   "cell_type": "code",
   "execution_count": null,
   "id": "789e6f59-e356-4a11-8092-6f134eb41c9a",
   "metadata": {},
   "outputs": [],
   "source": []
  }
 ],
 "metadata": {
  "kernelspec": {
   "display_name": "Python 3 (ipykernel)",
   "language": "python",
   "name": "python3"
  },
  "language_info": {
   "codemirror_mode": {
    "name": "ipython",
    "version": 3
   },
   "file_extension": ".py",
   "mimetype": "text/x-python",
   "name": "python",
   "nbconvert_exporter": "python",
   "pygments_lexer": "ipython3",
   "version": "3.13.3"
  }
 },
 "nbformat": 4,
 "nbformat_minor": 5
}
