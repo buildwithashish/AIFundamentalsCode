{
 "cells": [
  {
   "cell_type": "code",
   "execution_count": 1,
   "id": "b9edeaad-9494-41d9-81ce-a48d0145789b",
   "metadata": {},
   "outputs": [
    {
     "name": "stdout",
     "output_type": "stream",
     "text": [
      "Addition:\n",
      " [[11 22]\n",
      " [33 44]]\n",
      "Subtraction:\n",
      " [[ -9 -18]\n",
      " [-27 -36]]\n",
      "Multiplication:\n",
      " [[ 10  40]\n",
      " [ 90 160]]\n",
      "Division:\n",
      " [[0.1 0.1]\n",
      " [0.1 0.1]]\n"
     ]
    }
   ],
   "source": [
    "import numpy as np\n",
    "\n",
    "a = np.array([[1, 2], [3, 4]])\n",
    "b = np.array([[10, 20], [30, 40]])\n",
    "\n",
    "print(\"Addition:\\n\", a + b)\n",
    "print(\"Subtraction:\\n\", a - b)\n",
    "print(\"Multiplication:\\n\", a * b)\n",
    "print(\"Division:\\n\", a / b)\n"
   ]
  },
  {
   "cell_type": "code",
   "execution_count": 4,
   "id": "c53d4dfd-4494-4c73-b19c-754bd37d0292",
   "metadata": {},
   "outputs": [
    {
     "name": "stdout",
     "output_type": "stream",
     "text": [
      "Broadcasted Addition:\n",
      " [[11 22]\n",
      " [13 24]]\n"
     ]
    }
   ],
   "source": [
    "a = np.array([[1, 2], [3, 4]])\n",
    "b = np.array([10, 20])  # shape (2,)\n",
    "\n",
    "print(\"Broadcasted Addition:\\n\", a + b)\n",
    "\n",
    "#NumPy automatically “stretches” shapes where possible.\n",
    "#Here, b is broadcast to match a's shape:"
   ]
  },
  {
   "cell_type": "code",
   "execution_count": 5,
   "id": "e72d7314-9f0c-42b5-8efa-baec4b729d64",
   "metadata": {},
   "outputs": [
    {
     "name": "stdout",
     "output_type": "stream",
     "text": [
      "Matrix Multiplication:\n",
      " [[ 4  4]\n",
      " [10  8]]\n"
     ]
    }
   ],
   "source": [
    "a = np.array([[1, 2], [3, 4]])\n",
    "b = np.array([[2, 0], [1, 2]])\n",
    "\n",
    "print(\"Matrix Multiplication:\\n\", a @ b)\n"
   ]
  },
  {
   "cell_type": "code",
   "execution_count": 8,
   "id": "9648ac03-2e40-42fb-ad4a-4ad0b1a94647",
   "metadata": {},
   "outputs": [
    {
     "name": "stdout",
     "output_type": "stream",
     "text": [
      "Reshaped:\n",
      " [[1 2 3]\n",
      " [4 5 6]]\n"
     ]
    }
   ],
   "source": [
    "a = np.array([[1, 2], [3, 4], [5, 6]])  # shape (3, 2)\n",
    "reshaped = a.reshape((2, 3))           # shape (2, 3)\n",
    "print(\"Reshaped:\\n\", reshaped)\n"
   ]
  },
  {
   "cell_type": "code",
   "execution_count": 9,
   "id": "309e84ea-9ba0-4abb-85ee-c496de03549e",
   "metadata": {},
   "outputs": [
    {
     "name": "stdout",
     "output_type": "stream",
     "text": [
      "Sum all: 10\n",
      "Sum along axis 0 (column-wise): [4 6]\n",
      "Sum along axis 1 (row-wise): [3 7]\n"
     ]
    }
   ],
   "source": [
    "#summing along axes\n",
    "a = np.array([[1, 2], [3, 4]])\n",
    "\n",
    "print(\"Sum all:\", np.sum(a))\n",
    "print(\"Sum along axis 0 (column-wise):\", np.sum(a, axis=0))\n",
    "print(\"Sum along axis 1 (row-wise):\", np.sum(a, axis=1))"
   ]
  },
  {
   "cell_type": "code",
   "execution_count": 10,
   "id": "5d3a7614-4b3f-4116-8dc2-0938a22af701",
   "metadata": {},
   "outputs": [
    {
     "name": "stdout",
     "output_type": "stream",
     "text": [
      "Transposed:\n",
      " [[1 3]\n",
      " [2 4]]\n"
     ]
    }
   ],
   "source": [
    "#Transpose of tensor\n",
    "a = np.array([[1, 2], [3, 4]])\n",
    "print(\"Transposed:\\n\", a.T)\n"
   ]
  },
  {
   "cell_type": "code",
   "execution_count": 14,
   "id": "b5c7e3ec-0599-4ed4-87ed-a941dd086ea5",
   "metadata": {},
   "outputs": [
    {
     "name": "stdout",
     "output_type": "stream",
     "text": [
      "Original tensor shape: (2, 3, 4)\n",
      "Tensor:\n",
      " [[[ 1  2  3  4]\n",
      "  [ 5  6  7  8]\n",
      "  [ 9 10 11 12]]\n",
      "\n",
      " [[13 14 15 16]\n",
      "  [17 18 19 20]\n",
      "  [21 22 23 24]]]\n",
      "\n",
      "Sum along axis 0 (blocks): shape (3, 4)\n",
      "[[14 16 18 20]\n",
      " [22 24 26 28]\n",
      " [30 32 34 36]]\n",
      "\n",
      "Sum along axis 1 (rows): shape (2, 4)\n",
      "[[15 18 21 24]\n",
      " [51 54 57 60]]\n",
      "\n",
      "Sum along axis 2 (columns): shape (2, 3)\n",
      "[[10 26 42]\n",
      " [58 74 90]]\n"
     ]
    }
   ],
   "source": [
    "#3D tensor summing along axes\n",
    "tensor = np.array([\n",
    "    [[1, 2, 3, 4],\n",
    "     [5, 6, 7, 8],\n",
    "     [9, 10, 11, 12]],\n",
    "\n",
    "    [[13, 14, 15, 16],\n",
    "     [17, 18, 19, 20],\n",
    "     [21, 22, 23, 24]]\n",
    "])\n",
    "\n",
    "print(\"Original tensor shape:\", tensor.shape)\n",
    "print(\"Tensor:\\n\", tensor)\n",
    "\n",
    "sum_axis_0 = np.sum(tensor, axis=0)\n",
    "print(\"\\nSum along axis 0 (blocks): shape\", sum_axis_0.shape)\n",
    "print(sum_axis_0)\n",
    "\n",
    "sum_axis_1 = np.sum(tensor, axis=1)\n",
    "print(\"\\nSum along axis 1 (rows): shape\", sum_axis_1.shape)\n",
    "print(sum_axis_1)\n",
    "\n",
    "sum_axis_2 = np.sum(tensor, axis=2)\n",
    "print(\"\\nSum along axis 2 (columns): shape\", sum_axis_2.shape)\n",
    "print(sum_axis_2)\n"
   ]
  },
  {
   "cell_type": "code",
   "execution_count": null,
   "id": "d7394f9a-2529-4258-9420-abb4c9b837c4",
   "metadata": {},
   "outputs": [],
   "source": []
  }
 ],
 "metadata": {
  "kernelspec": {
   "display_name": "Python 3 (ipykernel)",
   "language": "python",
   "name": "python3"
  },
  "language_info": {
   "codemirror_mode": {
    "name": "ipython",
    "version": 3
   },
   "file_extension": ".py",
   "mimetype": "text/x-python",
   "name": "python",
   "nbconvert_exporter": "python",
   "pygments_lexer": "ipython3",
   "version": "3.13.3"
  }
 },
 "nbformat": 4,
 "nbformat_minor": 5
}
