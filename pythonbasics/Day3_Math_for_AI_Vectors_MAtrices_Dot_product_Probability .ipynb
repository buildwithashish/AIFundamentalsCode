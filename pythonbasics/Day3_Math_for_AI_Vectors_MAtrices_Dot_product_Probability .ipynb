{
 "cells": [
  {
   "cell_type": "code",
   "execution_count": 3,
   "id": "4079ea7a-f4fa-43af-9e3b-89c2c50899e5",
   "metadata": {},
   "outputs": [],
   "source": [
    "import numpy as np"
   ]
  },
  {
   "cell_type": "code",
   "execution_count": 5,
   "id": "49fa0240-ec4b-4459-8d9b-44e0e5c006be",
   "metadata": {},
   "outputs": [
    {
     "name": "stdout",
     "output_type": "stream",
     "text": [
      "[2 4 5]\n",
      "[[1 2 3]\n",
      " [4 5 6]]\n"
     ]
    }
   ],
   "source": [
    "v=np.array([2,4,5]) #1D array\n",
    "print(v)\n",
    "\n",
    "m=np.array([[1,2,3],[4,5,6]]) #2D array or matrix\n",
    "print(m)\n",
    "\n"
   ]
  },
  {
   "cell_type": "code",
   "execution_count": 7,
   "id": "be33f070-ecd6-461e-9af1-d0c26a42ce5b",
   "metadata": {},
   "outputs": [
    {
     "name": "stdout",
     "output_type": "stream",
     "text": [
      "[[ 6  8]\n",
      " [10 12]]\n",
      "[[-4 -4]\n",
      " [-4 -4]]\n"
     ]
    }
   ],
   "source": [
    "a=np.array([[1,2],[3,4]])\n",
    "b=np.array([[5,6],[7,8]])\n",
    "\n",
    "# Addition of two 2-D matrix\n",
    "print(a+b)\n",
    "# Subtraction of two 2-D matrix\n",
    "print(a-b)"
   ]
  },
  {
   "cell_type": "code",
   "execution_count": 9,
   "id": "30f8e823-a5c8-4ff4-95e0-032410adf52d",
   "metadata": {},
   "outputs": [
    {
     "name": "stdout",
     "output_type": "stream",
     "text": [
      "[[2 4]\n",
      " [6 8]]\n"
     ]
    }
   ],
   "source": [
    "# Scalar multiplication\n",
    "print(2*a)"
   ]
  },
  {
   "cell_type": "code",
   "execution_count": 12,
   "id": "14833e96-ce50-4037-b412-13ae4b2e8e10",
   "metadata": {},
   "outputs": [
    {
     "name": "stdout",
     "output_type": "stream",
     "text": [
      "Original: \n",
      " [[1 2]\n",
      " [3 4]]\n",
      "Transpose: \n",
      " [[1 3]\n",
      " [2 4]]\n"
     ]
    }
   ],
   "source": [
    "# Transpose of matrix\n",
    "print(\"Original: \\n\", a)\n",
    "print(\"Transpose: \\n\", a.T)"
   ]
  },
  {
   "cell_type": "code",
   "execution_count": 13,
   "id": "e79a5b91-9d4a-43f3-bd0c-495acee21e5f",
   "metadata": {},
   "outputs": [
    {
     "name": "stdout",
     "output_type": "stream",
     "text": [
      "11\n"
     ]
    }
   ],
   "source": [
    "# dot product - it is for vectors i.e. 1-D array\n",
    "c=np.array([1,2])\n",
    "d=np.array([3,4])\n",
    "dotproduct = np.dot(c,d) #1*3 + 2*4\n",
    "print(dotproduct)\n"
   ]
  },
  {
   "cell_type": "code",
   "execution_count": 14,
   "id": "673f8eae-dc56-4744-acf0-6332ad5facca",
   "metadata": {},
   "outputs": [
    {
     "name": "stdout",
     "output_type": "stream",
     "text": [
      "[[19 22]\n",
      " [43 50]]\n"
     ]
    }
   ],
   "source": [
    "# matrix multiplication\n",
    "print(np.dot(a,b))"
   ]
  },
  {
   "cell_type": "code",
   "execution_count": 16,
   "id": "6a575152-694f-4e08-8549-6855b1be4ca6",
   "metadata": {},
   "outputs": [
    {
     "name": "stdout",
     "output_type": "stream",
     "text": [
      "[[34 34]\n",
      " [64 64]]\n"
     ]
    }
   ],
   "source": [
    "# matrix multiplication\n",
    "e=np.array([[4,5],[9,5]])\n",
    "f=np.array([[6,6],[2,2]])\n",
    "\n",
    "print(np.dot(e, f))"
   ]
  },
  {
   "cell_type": "code",
   "execution_count": 19,
   "id": "e4a88653-3470-4620-9023-aaf0bb7aea13",
   "metadata": {},
   "outputs": [
    {
     "name": "stdout",
     "output_type": "stream",
     "text": [
      "0.2 0.8\n"
     ]
    }
   ],
   "source": [
    "# probability\n",
    "\n",
    "p_heads=0.2\n",
    "p_tails=1-p_heads\n",
    "print(p_heads, p_tails)"
   ]
  },
  {
   "cell_type": "code",
   "execution_count": 15,
   "id": "edb57dc8-341c-4aa1-a2bd-6ce564bf60de",
   "metadata": {},
   "outputs": [
    {
     "name": "stdout",
     "output_type": "stream",
     "text": [
      "Multiplication of two 2D arrays f and g is: \n",
      "[[25 28]\n",
      " [57 64]]\n",
      "Transpose of f is: \n",
      "[[1 3]\n",
      " [2 4]]\n",
      "Transpose of g is: \n",
      "[[ 7  9]\n",
      " [ 8 10]]\n",
      "Dot product of h and i is: 32\n",
      "Mean of f is: 2.0\n",
      "Standard deviation of g is: 1.118033988749895\n"
     ]
    }
   ],
   "source": [
    "# Challenge\n",
    "#   Create a 2x2 matrix\n",
    "#   Multiply it with another 2x2 matrix\n",
    "#   Find its transpose\n",
    "#   Calculate dot product of two 1D arrays\n",
    "#   Print the mean and standard deviation of a vector\n",
    "\n",
    "f = np.array([[1,2],[3,4]])\n",
    "g = np.array([[7,8],[9,10]])\n",
    "mul = np.dot(f,g)\n",
    "print(f\"Multiplication of two 2D arrays f and g is: \\n{mul}\")\n",
    "print(f\"Transpose of f is: \\n{f.T}\")\n",
    "print(f\"Transpose of g is: \\n{g.T}\")\n",
    " \n",
    "h = np.array([1,2,3])\n",
    "i = np.array([4,5,6])\n",
    "dp = np.dot(h,i);\n",
    "print(f\"Dot product of h and i is: {dp}\")\n",
    "\n",
    "meanf = np.mean(h)\n",
    "print(f\"Mean of f is: {meanf}\")\n",
    "\n",
    "std = np.std(g)\n",
    "print(f\"Standard deviation of g is: {std}\")"
   ]
  },
  {
   "cell_type": "code",
   "execution_count": null,
   "id": "9258a65e-e8fd-4f6d-853a-9c6b70776e32",
   "metadata": {},
   "outputs": [],
   "source": []
  }
 ],
 "metadata": {
  "kernelspec": {
   "display_name": "Python 3 (ipykernel)",
   "language": "python",
   "name": "python3"
  },
  "language_info": {
   "codemirror_mode": {
    "name": "ipython",
    "version": 3
   },
   "file_extension": ".py",
   "mimetype": "text/x-python",
   "name": "python",
   "nbconvert_exporter": "python",
   "pygments_lexer": "ipython3",
   "version": "3.13.3"
  }
 },
 "nbformat": 4,
 "nbformat_minor": 5
}
