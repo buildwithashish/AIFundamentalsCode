{
 "cells": [
  {
   "cell_type": "code",
   "execution_count": 1,
   "id": "9da32218-3d7e-4808-b8d7-64c927830b19",
   "metadata": {},
   "outputs": [
    {
     "name": "stdout",
     "output_type": "stream",
     "text": [
      "Welcome to AI in python\n"
     ]
    }
   ],
   "source": [
    "print(\"Welcome to AI in python\");"
   ]
  },
  {
   "cell_type": "code",
   "execution_count": 3,
   "id": "05c746dc-d091-4afd-9a4f-29cc3106598e",
   "metadata": {},
   "outputs": [
    {
     "name": "stdout",
     "output_type": "stream",
     "text": [
      "My name is Ashish and my age is 36\n"
     ]
    }
   ],
   "source": [
    "name = \"Ashish\"\n",
    "age = 36\n",
    "print(f\"My name is {name} and my age is {age}\")"
   ]
  },
  {
   "cell_type": "code",
   "execution_count": 5,
   "id": "f88cb387-1d01-42ca-8107-9aae01e552b4",
   "metadata": {},
   "outputs": [
    {
     "name": "stdout",
     "output_type": "stream",
     "text": [
      "Learning python\n",
      "Learning GPT\n",
      "Learning Langchain\n",
      "Learning HuggingFace\n"
     ]
    }
   ],
   "source": [
    "tools = [\"python\", \"GPT\", \"Langchain\", \"HuggingFace\"]\n",
    "for tool in tools:\n",
    "    print(f\"Learning {tool}\")"
   ]
  },
  {
   "cell_type": "code",
   "execution_count": 7,
   "id": "f5443db9-4dd5-4997-b464-2d64cdf07f49",
   "metadata": {},
   "outputs": [
    {
     "name": "stdout",
     "output_type": "stream",
     "text": [
      "Square of 4 is: 16\n"
     ]
    }
   ],
   "source": [
    "def square(x):\n",
    "    return x*x\n",
    "\n",
    "print(f\"Square of 4 is:\", square(4))"
   ]
  },
  {
   "cell_type": "code",
   "execution_count": 19,
   "id": "1f9d781c-9de5-4526-b64b-499699973664",
   "metadata": {},
   "outputs": [
    {
     "name": "stdout",
     "output_type": "stream",
     "text": [
      "Model Details\n",
      "name : GPT4\n",
      "type : transformer\n",
      "value : 888B\n",
      "---------\n",
      "name : GPT5\n",
      "type : transformer2\n",
      "value : 777\n",
      "---------\n",
      "Vaue is  8\n"
     ]
    }
   ],
   "source": [
    "model = [{\n",
    "            \"name\":\"GPT4\",\n",
    "            \"type\":\"transformer\",\n",
    "            \"value\":\"888B\"\n",
    "         }, \n",
    "         {\n",
    "            \"name\":\"GPT5\",\n",
    "            \"type\":\"transformer2\",\n",
    "            \"value\":\"777\"\n",
    "         }]\n",
    "\n",
    "print(\"Model Details\")\n",
    "for obj in model:\n",
    "    for key, value in obj.items():\n",
    "        print(f\"{key} : {value}\")\n",
    "    print(\"---------\")\n",
    "\n",
    "print(\"Vaue is \", 4+4)"
   ]
  },
  {
   "cell_type": "code",
   "execution_count": 25,
   "id": "3545e524-c672-42ce-9f5e-2e846df7e740",
   "metadata": {},
   "outputs": [
    {
     "name": "stdout",
     "output_type": "stream",
     "text": [
      "4 is  even\n",
      "7 is  odd\n",
      "0 is  even\n"
     ]
    }
   ],
   "source": [
    "def evenOdd(x):\n",
    "    if(x%2 == 0):\n",
    "        return \"even\"\n",
    "    return \"odd\"\n",
    "\n",
    "print(f\"4 is \", evenOdd(4));\n",
    "print(f\"7 is \", evenOdd(7));\n",
    "print(f\"0 is \", evenOdd(0));"
   ]
  },
  {
   "cell_type": "code",
   "execution_count": null,
   "id": "cad941bb-4eb0-433f-9ec0-00d27d764996",
   "metadata": {},
   "outputs": [],
   "source": []
  }
 ],
 "metadata": {
  "kernelspec": {
   "display_name": "Python 3 (ipykernel)",
   "language": "python",
   "name": "python3"
  },
  "language_info": {
   "codemirror_mode": {
    "name": "ipython",
    "version": 3
   },
   "file_extension": ".py",
   "mimetype": "text/x-python",
   "name": "python",
   "nbconvert_exporter": "python",
   "pygments_lexer": "ipython3",
   "version": "3.13.3"
  }
 },
 "nbformat": 4,
 "nbformat_minor": 5
}
